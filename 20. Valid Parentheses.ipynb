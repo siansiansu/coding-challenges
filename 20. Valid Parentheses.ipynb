{
 "cells": [
  {
   "cell_type": "code",
   "execution_count": 60,
   "metadata": {},
   "outputs": [
    {
     "name": "stdout",
     "output_type": "stream",
     "text": [
      "True\n",
      "False\n"
     ]
    }
   ],
   "source": [
    "class Solution:\n",
    "    def isValid(self, s):\n",
    "        \"\"\"\n",
    "        :type s: str\n",
    "        :rtype: bool\n",
    "        \"\"\"\n",
    "        stack, lookup = [], {'(': ')', '[': ']', '{': '}'}\n",
    "        for parenthese in s:\n",
    "            if parenthese in lookup:\n",
    "                stack.append(parenthese)\n",
    "            elif not stack:\n",
    "                return False\n",
    "            elif lookup[stack.pop()] != parenthese:\n",
    "                return False\n",
    "        return not stack\n",
    "    \n",
    "    \n",
    "if __name__ == \"__main__\":\n",
    "    print(Solution().isValid(\"()[]{}\"))\n",
    "    print(Solution().isValid(\"()[{]}()[]{}\"))"
   ]
  }
 ],
 "metadata": {
  "kernelspec": {
   "display_name": "Python 3",
   "language": "python",
   "name": "python3"
  },
  "language_info": {
   "codemirror_mode": {
    "name": "ipython",
    "version": 3
   },
   "file_extension": ".py",
   "mimetype": "text/x-python",
   "name": "python",
   "nbconvert_exporter": "python",
   "pygments_lexer": "ipython3",
   "version": "3.6.3"
  }
 },
 "nbformat": 4,
 "nbformat_minor": 2
}
