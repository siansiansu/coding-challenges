{
 "cells": [
  {
   "cell_type": "markdown",
   "metadata": {},
   "source": [
    "# Longest Common Prefix\n",
    "Write a function to find the longest common prefix string amongst an array of strings."
   ]
  },
  {
   "cell_type": "code",
   "execution_count": 134,
   "metadata": {},
   "outputs": [
    {
     "name": "stdout",
     "output_type": "stream",
     "text": [
      "ab\n"
     ]
    }
   ],
   "source": [
    "class Solution:\n",
    "    def longestCommonPrefix(self, strs):\n",
    "        \"\"\"\n",
    "        :type strs: List[str]\n",
    "        :rtype: str\n",
    "        \"\"\"     \n",
    "        if not strs: return ''  \n",
    "        for seq, numStrs in enumerate(zip(*strs)):\n",
    "            if len(set(numStrs)) > 1:\n",
    "                return strs[0][:seq]\n",
    "        return min(strs)\n",
    "    \n",
    "if __name__ == \"__main__\":   \n",
    "    print(Solution().longestCommonPrefix(['abde', 'ab', 'ab']))"
   ]
  },
  {
   "cell_type": "markdown",
   "metadata": {},
   "source": [
    "# Submission Detail\n",
    "![](/images/2018-03-17-cQs5Zr.jpg)"
   ]
  },
  {
   "cell_type": "markdown",
   "metadata": {},
   "source": [
    "# My Notes\n",
    "注意例外的狀況，一開始沒寫 ``if not strs: return ''``導致一直error\n",
    "大部分的數組``min(strs)``能解，但有例外的狀況需要用if處理"
   ]
  }
 ],
 "metadata": {
  "kernelspec": {
   "display_name": "Python 3",
   "language": "python",
   "name": "python3"
  },
  "language_info": {
   "codemirror_mode": {
    "name": "ipython",
    "version": 3
   },
   "file_extension": ".py",
   "mimetype": "text/x-python",
   "name": "python",
   "nbconvert_exporter": "python",
   "pygments_lexer": "ipython3",
   "version": "3.6.3"
  }
 },
 "nbformat": 4,
 "nbformat_minor": 2
}
