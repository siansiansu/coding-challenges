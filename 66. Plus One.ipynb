{
 "cells": [
  {
   "cell_type": "code",
   "execution_count": 24,
   "metadata": {},
   "outputs": [
    {
     "name": "stdout",
     "output_type": "stream",
     "text": [
      "[1, 2, 3, 5]\n"
     ]
    }
   ],
   "source": [
    "class Solution:\n",
    "    def plusOne(self, digits):\n",
    "        \"\"\"\n",
    "        :type digits: List[int]\n",
    "        :rtype: List[int]\n",
    "        \"\"\"\n",
    "        plus = 1\n",
    "        for i in range(len(digits) -1, -1, -1):\n",
    "            if digits[i] + plus > 9:\n",
    "                digits[i] = 0\n",
    "            else: \n",
    "                digits[i] = digits[i] + plus\n",
    "                plus = 0\n",
    "        if plus == 1:\n",
    "            digits.insert(0,1)\n",
    "        return digits\n",
    "    \n",
    "if __name__ == \"__main__\":    \n",
    "    print(Solution().plusOne([1,2,3,4]))"
   ]
  }
 ],
 "metadata": {
  "kernelspec": {
   "display_name": "Python 3",
   "language": "python",
   "name": "python3"
  },
  "language_info": {
   "codemirror_mode": {
    "name": "ipython",
    "version": 3
   },
   "file_extension": ".py",
   "mimetype": "text/x-python",
   "name": "python",
   "nbconvert_exporter": "python",
   "pygments_lexer": "ipython3",
   "version": "3.6.3"
  }
 },
 "nbformat": 4,
 "nbformat_minor": 2
}
