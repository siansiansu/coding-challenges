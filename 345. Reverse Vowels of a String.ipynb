{
 "cells": [
  {
   "cell_type": "code",
   "execution_count": 12,
   "metadata": {},
   "outputs": [
    {
     "name": "stdout",
     "output_type": "stream",
     "text": [
      "leotcede\n"
     ]
    }
   ],
   "source": [
    "class Solution:\n",
    "    def reverseVowels(self, s):\n",
    "        \"\"\"\n",
    "        :type s: str\n",
    "        :rtype: str\n",
    "        \"\"\"\n",
    "        vowels = 'aeiou'\n",
    "        string = list(s)\n",
    "        \n",
    "        i, j = 0, len(s) - 1\n",
    "        while i < j:\n",
    "            if string[i].lower() not in vowels:\n",
    "                i += 1\n",
    "            elif string[j].lower() not in vowels:\n",
    "                j -= 1\n",
    "            else: \n",
    "                string[i], string[j] = string[j], string[i]\n",
    "                i += 1\n",
    "                j -= 1\n",
    "        return ''.join(string)\n",
    "        \n",
    "if __name__ == \"__main__\":    \n",
    "    print(Solution().reverseVowels('leetcode'))        "
   ]
  }
 ],
 "metadata": {
  "kernelspec": {
   "display_name": "Python 3",
   "language": "python",
   "name": "python3"
  },
  "language_info": {
   "codemirror_mode": {
    "name": "ipython",
    "version": 3
   },
   "file_extension": ".py",
   "mimetype": "text/x-python",
   "name": "python",
   "nbconvert_exporter": "python",
   "pygments_lexer": "ipython3",
   "version": "3.6.3"
  }
 },
 "nbformat": 4,
 "nbformat_minor": 2
}
